{
 "cells": [
  {
   "cell_type": "code",
   "execution_count": 3,
   "metadata": {
    "collapsed": false
   },
   "outputs": [
    {
     "name": "stdout",
     "output_type": "stream",
     "text": [
      "Let's get our hands dirty.\n"
     ]
    }
   ],
   "source": [
    "'''\n",
    "Author: Juarez Monteiro\n",
    "Dataset: Available in https://www.kaggle.com/abcsds/pokemon\n",
    "Learning from https://www.udemy.com/python-for-data-science-and-machine-learning-bootcamp\n",
    "'''\n",
    "print \"Let's get our hands dirty.\""
   ]
  },
  {
   "cell_type": "code",
   "execution_count": 4,
   "metadata": {
    "collapsed": true
   },
   "outputs": [],
   "source": [
    "import pandas as pd\n",
    "import numpy as np"
   ]
  },
  {
   "cell_type": "code",
   "execution_count": 5,
   "metadata": {
    "collapsed": true
   },
   "outputs": [],
   "source": [
    "import matplotlib.pyplot as plt\n",
    "import seaborn as sns\n",
    "from sklearn.preprocessing import StandardScaler"
   ]
  },
  {
   "cell_type": "code",
   "execution_count": 6,
   "metadata": {
    "collapsed": true
   },
   "outputs": [],
   "source": [
    "%matplotlib inline"
   ]
  },
  {
   "cell_type": "code",
   "execution_count": 7,
   "metadata": {
    "collapsed": true
   },
   "outputs": [],
   "source": [
    "# Reading the Pokémon dataset\n",
    "df = pd.read_csv(\"Pokemon.csv\")"
   ]
  },
  {
   "cell_type": "code",
   "execution_count": 8,
   "metadata": {
    "collapsed": true
   },
   "outputs": [],
   "source": [
    "# Scikit learn comes with a function that split the dataset for you.\n",
    "\n",
    "from sklearn.cross_validation import train_test_split"
   ]
  },
  {
   "cell_type": "code",
   "execution_count": 9,
   "metadata": {
    "collapsed": true
   },
   "outputs": [],
   "source": [
    "# For this example we gonna try to classify Pokémons by their Type\n",
    "\n",
    "X = df[['Attack', 'Defense', 'Sp. Atk', 'Sp. Def', 'Speed', 'Generation']]\n",
    "y = df['Type 1']"
   ]
  },
  {
   "cell_type": "code",
   "execution_count": 10,
   "metadata": {
    "collapsed": false
   },
   "outputs": [],
   "source": [
    "# Split arrays or matrices into random train and test subsets\n",
    "\n",
    "X_train, X_test, y_train, y_test = train_test_split(X, y, test_size=0.3, random_state=7)"
   ]
  },
  {
   "cell_type": "code",
   "execution_count": 11,
   "metadata": {
    "collapsed": true
   },
   "outputs": [],
   "source": [
    "from sklearn.tree import DecisionTreeClassifier"
   ]
  },
  {
   "cell_type": "code",
   "execution_count": 12,
   "metadata": {
    "collapsed": true
   },
   "outputs": [],
   "source": [
    "dtree = DecisionTreeClassifier()"
   ]
  },
  {
   "cell_type": "code",
   "execution_count": 13,
   "metadata": {
    "collapsed": false
   },
   "outputs": [
    {
     "data": {
      "text/plain": [
       "DecisionTreeClassifier(class_weight=None, criterion='gini', max_depth=None,\n",
       "            max_features=None, max_leaf_nodes=None, min_samples_leaf=1,\n",
       "            min_samples_split=2, min_weight_fraction_leaf=0.0,\n",
       "            presort=False, random_state=None, splitter='best')"
      ]
     },
     "execution_count": 13,
     "metadata": {},
     "output_type": "execute_result"
    }
   ],
   "source": [
    "dtree.fit(X_train, y_train)"
   ]
  },
  {
   "cell_type": "code",
   "execution_count": 14,
   "metadata": {
    "collapsed": true
   },
   "outputs": [],
   "source": [
    "predictions = dtree.predict(X_test)"
   ]
  },
  {
   "cell_type": "code",
   "execution_count": 15,
   "metadata": {
    "collapsed": false
   },
   "outputs": [],
   "source": [
    "from sklearn.metrics import classification_report, confusion_matrix, accuracy_score"
   ]
  },
  {
   "cell_type": "code",
   "execution_count": 16,
   "metadata": {
    "collapsed": false,
    "scrolled": false
   },
   "outputs": [
    {
     "name": "stdout",
     "output_type": "stream",
     "text": [
      "[[6 1 0 1 0 2 0 0 3 0 0 0 1 2 1 1 1 3]\n",
      " [2 0 1 0 0 0 1 0 0 0 0 1 2 0 0 2 0 3]\n",
      " [0 0 2 0 0 0 0 1 0 0 0 0 0 1 2 1 2 2]\n",
      " [0 0 0 1 0 0 1 1 2 1 0 2 3 0 2 0 0 0]\n",
      " [0 0 0 0 1 0 0 0 0 0 0 0 0 0 0 0 0 0]\n",
      " [0 0 0 0 0 1 1 1 0 0 0 0 3 0 0 1 0 1]\n",
      " [0 0 2 2 0 0 3 0 0 0 0 2 2 2 0 1 0 2]\n",
      " [1 0 0 1 0 0 0 0 0 0 0 0 0 0 0 0 0 0]\n",
      " [0 0 0 1 0 0 1 0 2 0 0 1 1 0 4 0 2 0]\n",
      " [3 1 1 2 1 0 2 0 1 1 0 0 2 0 5 0 0 4]\n",
      " [0 0 2 0 0 1 0 0 0 1 0 0 3 0 1 2 1 1]\n",
      " [0 0 0 1 0 0 0 0 1 0 1 0 0 0 0 2 1 2]\n",
      " [1 0 0 1 2 1 3 0 1 4 0 3 7 0 0 1 0 2]\n",
      " [0 0 0 0 0 0 1 0 0 1 0 0 1 1 0 0 0 0]\n",
      " [2 0 1 0 2 0 1 0 0 2 0 1 1 0 4 2 1 1]\n",
      " [1 0 1 1 0 0 0 0 2 0 1 0 0 0 1 0 2 0]\n",
      " [1 0 0 0 0 0 1 0 1 3 0 0 0 0 1 2 1 0]\n",
      " [1 0 1 3 1 0 4 0 1 4 1 0 4 3 1 3 1 5]]\n",
      "             precision    recall  f1-score   support\n",
      "\n",
      "        Bug       0.33      0.27      0.30        22\n",
      "       Dark       0.00      0.00      0.00        12\n",
      "     Dragon       0.18      0.18      0.18        11\n",
      "   Electric       0.07      0.08      0.07        13\n",
      "      Fairy       0.14      1.00      0.25         1\n",
      "   Fighting       0.20      0.12      0.15         8\n",
      "       Fire       0.16      0.19      0.17        16\n",
      "     Flying       0.00      0.00      0.00         2\n",
      "      Ghost       0.14      0.17      0.15        12\n",
      "      Grass       0.06      0.04      0.05        23\n",
      "     Ground       0.00      0.00      0.00        12\n",
      "        Ice       0.00      0.00      0.00         8\n",
      "     Normal       0.23      0.27      0.25        26\n",
      "     Poison       0.11      0.25      0.15         4\n",
      "    Psychic       0.18      0.22      0.20        18\n",
      "       Rock       0.00      0.00      0.00         9\n",
      "      Steel       0.08      0.10      0.09        10\n",
      "      Water       0.19      0.15      0.17        33\n",
      "\n",
      "avg / total       0.14      0.15      0.14       240\n",
      "\n",
      "0.145833333333\n"
     ]
    }
   ],
   "source": [
    "print confusion_matrix(y_test, predictions)\n",
    "print(classification_report(y_test, predictions))\n",
    "print(accuracy_score(y_test, predictions))"
   ]
  },
  {
   "cell_type": "code",
   "execution_count": 17,
   "metadata": {
    "collapsed": true
   },
   "outputs": [],
   "source": [
    "from sklearn.ensemble import RandomForestClassifier"
   ]
  },
  {
   "cell_type": "code",
   "execution_count": 18,
   "metadata": {
    "collapsed": true
   },
   "outputs": [],
   "source": [
    "rfc = RandomForestClassifier(n_estimators=200)"
   ]
  },
  {
   "cell_type": "code",
   "execution_count": 19,
   "metadata": {
    "collapsed": false
   },
   "outputs": [
    {
     "data": {
      "text/plain": [
       "RandomForestClassifier(bootstrap=True, class_weight=None, criterion='gini',\n",
       "            max_depth=None, max_features='auto', max_leaf_nodes=None,\n",
       "            min_samples_leaf=1, min_samples_split=2,\n",
       "            min_weight_fraction_leaf=0.0, n_estimators=200, n_jobs=1,\n",
       "            oob_score=False, random_state=None, verbose=0,\n",
       "            warm_start=False)"
      ]
     },
     "execution_count": 19,
     "metadata": {},
     "output_type": "execute_result"
    }
   ],
   "source": [
    "rfc.fit(X_train,y_train)"
   ]
  },
  {
   "cell_type": "code",
   "execution_count": 20,
   "metadata": {
    "collapsed": true
   },
   "outputs": [],
   "source": [
    "rfc_pred = rfc.predict(X_test)"
   ]
  },
  {
   "cell_type": "code",
   "execution_count": 21,
   "metadata": {
    "collapsed": false,
    "scrolled": true
   },
   "outputs": [
    {
     "name": "stdout",
     "output_type": "stream",
     "text": [
      "[[ 3  0  0  0  0  2  0  0  1  1  0  0  3  2  3  4  1  2]\n",
      " [ 0  1  2  0  0  0  2  0  0  1  0  0  3  0  0  0  0  3]\n",
      " [ 1  0  0  1  2  0  0  0  0  0  0  0  1  0  1  1  0  4]\n",
      " [ 0  0  0  1  0  0  1  0  1  0  0  1  3  0  4  0  0  2]\n",
      " [ 0  0  0  0  1  0  0  0  0  0  0  0  0  0  0  0  0  0]\n",
      " [ 0  0  0  0  0  1  0  0  0  1  1  0  4  0  0  1  0  0]\n",
      " [ 0  1  2  1  0  1  5  0  0  2  0  0  1  0  0  0  0  3]\n",
      " [ 0  0  0  1  0  0  0  0  0  0  0  0  0  0  1  0  0  0]\n",
      " [ 1  0  0  0  0  0  1  0  2  0  0  0  0  0  3  2  1  2]\n",
      " [ 3  0  0  3  0  0  2  0  1  0  0  0  2  1  2  0  0  9]\n",
      " [ 0  0  1  0  0  0  0  0  0  1  0  0  5  1  0  2  1  1]\n",
      " [ 1  0  0  0  1  0  0  0  0  0  0  0  0  0  0  0  1  5]\n",
      " [ 0  1  0  0  0  0  1  0  0  2  0  0 17  0  1  1  1  2]\n",
      " [ 0  0  0  0  1  0  0  0  0  0  0  0  3  0  0  0  0  0]\n",
      " [ 0  0  0  0  1  0  1  0  0  3  0  1  1  0  4  0  1  6]\n",
      " [ 1  0  0  0  0  1  0  0  1  0  0  0  1  0  0  1  2  2]\n",
      " [ 2  0  0  0  0  0  0  0  1  2  0  0  0  0  0  2  2  1]\n",
      " [ 1  0  1  1  1  0  1  0  0  4  1  0  7  2  1  2  1 10]]\n",
      "             precision    recall  f1-score   support\n",
      "\n",
      "        Bug       0.23      0.14      0.17        22\n",
      "       Dark       0.33      0.08      0.13        12\n",
      "     Dragon       0.00      0.00      0.00        11\n",
      "   Electric       0.12      0.08      0.10        13\n",
      "      Fairy       0.14      1.00      0.25         1\n",
      "   Fighting       0.20      0.12      0.15         8\n",
      "       Fire       0.36      0.31      0.33        16\n",
      "     Flying       0.00      0.00      0.00         2\n",
      "      Ghost       0.29      0.17      0.21        12\n",
      "      Grass       0.00      0.00      0.00        23\n",
      "     Ground       0.00      0.00      0.00        12\n",
      "        Ice       0.00      0.00      0.00         8\n",
      "     Normal       0.33      0.65      0.44        26\n",
      "     Poison       0.00      0.00      0.00         4\n",
      "    Psychic       0.20      0.22      0.21        18\n",
      "       Rock       0.06      0.11      0.08         9\n",
      "      Steel       0.18      0.20      0.19        10\n",
      "      Water       0.19      0.30      0.24        33\n",
      "\n",
      "avg / total       0.18      0.20      0.17       240\n",
      "\n",
      "0.2\n"
     ]
    },
    {
     "name": "stderr",
     "output_type": "stream",
     "text": [
      "/home/trainman/anaconda2/lib/python2.7/site-packages/sklearn/metrics/classification.py:1074: UndefinedMetricWarning: Precision and F-score are ill-defined and being set to 0.0 in labels with no predicted samples.\n",
      "  'precision', 'predicted', average, warn_for)\n"
     ]
    }
   ],
   "source": [
    "print confusion_matrix(y_test, rfc_pred)\n",
    "print(classification_report(y_test, rfc_pred))\n",
    "print(accuracy_score(y_test, rfc_pred))"
   ]
  },
  {
   "cell_type": "code",
   "execution_count": 51,
   "metadata": {
    "collapsed": false
   },
   "outputs": [],
   "source": [
    "from IPython.display import Image\n",
    "from sklearn.externals.six import StringIO\n",
    "from sklearn.tree import export_graphviz\n",
    "import pydot"
   ]
  },
  {
   "cell_type": "code",
   "execution_count": null,
   "metadata": {
    "collapsed": true
   },
   "outputs": [],
   "source": []
  },
  {
   "cell_type": "code",
   "execution_count": 67,
   "metadata": {
    "collapsed": false
   },
   "outputs": [
    {
     "data": {
      "text/plain": [
       "['Attack', 'Defense', 'Sp. Atk', 'Sp. Def', 'Speed', 'Generation']"
      ]
     },
     "execution_count": 67,
     "metadata": {},
     "output_type": "execute_result"
    }
   ],
   "source": [
    "features = list(X_test)\n",
    "features"
   ]
  },
  {
   "cell_type": "code",
   "execution_count": 68,
   "metadata": {
    "collapsed": false
   },
   "outputs": [
    {
     "name": "stdout",
     "output_type": "stream",
     "text": [
      "dot: graph is too large for cairo-renderer bitmaps. Scaling by 0.571162 to fit\n",
      "\n"
     ]
    }
   ],
   "source": [
    "dot_data = StringIO()  \n",
    "export_graphviz(dtree, out_file=dot_data,feature_names=features,filled=True,rounded=True)\n",
    "\n",
    "graph = pydot.graph_from_dot_data(dot_data.getvalue())  \n",
    "j = graph.create_png()"
   ]
  },
  {
   "cell_type": "code",
   "execution_count": 69,
   "metadata": {
    "collapsed": false
   },
   "outputs": [
    {
     "name": "stdout",
     "output_type": "stream",
     "text": [
      "dot: graph is too large for cairo-renderer bitmaps. Scaling by 0.571162 to fit\n",
      "\n"
     ]
    },
    {
     "data": {
      "text/plain": [
       "True"
      ]
     },
     "execution_count": 69,
     "metadata": {},
     "output_type": "execute_result"
    }
   ],
   "source": [
    "graph.write_jpg(path='test.jpg')"
   ]
  }
 ],
 "metadata": {
  "anaconda-cloud": {},
  "kernelspec": {
   "display_name": "Python [conda root]",
   "language": "python",
   "name": "conda-root-py"
  },
  "language_info": {
   "codemirror_mode": {
    "name": "ipython",
    "version": 2
   },
   "file_extension": ".py",
   "mimetype": "text/x-python",
   "name": "python",
   "nbconvert_exporter": "python",
   "pygments_lexer": "ipython2",
   "version": "2.7.12"
  }
 },
 "nbformat": 4,
 "nbformat_minor": 1
}
