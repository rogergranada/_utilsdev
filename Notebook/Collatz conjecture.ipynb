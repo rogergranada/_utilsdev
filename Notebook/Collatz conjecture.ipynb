{
 "cells": [
  {
   "cell_type": "markdown",
   "metadata": {},
   "source": [
    "# Collatz conjecture "
   ]
  },
  {
   "cell_type": "code",
   "execution_count": 44,
   "metadata": {},
   "outputs": [],
   "source": [
    "# Use in all instances to check time\n",
    "import time"
   ]
  },
  {
   "cell_type": "code",
   "execution_count": 46,
   "metadata": {},
   "outputs": [
    {
     "name": "stdout",
     "output_type": "stream",
     "text": [
      "(9, [40, 20, 10, 5, 16, 8, 4, 2, 1])\n",
      "Total time: 0.000306129455566 sec\n"
     ]
    }
   ],
   "source": [
    "# Solving the Collatz conjecture \n",
    "## Naive approach\n",
    "\n",
    "def collatz(n):\n",
    "    elements = []\n",
    "    counter = 0\n",
    "    while n > 1:\n",
    "        if n % 2 == 0:\n",
    "            n /= 2\n",
    "        else:\n",
    "            n = 3*n + 1\n",
    "        elements.append(n)\n",
    "        counter += 1\n",
    "    return counter, elements\n",
    "\n",
    "start = time.time()\n",
    "print(collatz(13))\n",
    "end = time.time()\n",
    "print('Total time: {} sec'.format(end-start))"
   ]
  },
  {
   "cell_type": "code",
   "execution_count": 47,
   "metadata": {},
   "outputs": [
    {
     "name": "stdout",
     "output_type": "stream",
     "text": [
      "(837799, 524)\n",
      "Total time: 46.9648151398 sec\n"
     ]
    }
   ],
   "source": [
    "def maxsize(max_value):\n",
    "    max_size = 0\n",
    "    for i in range(1, max_value):\n",
    "        size, _ = collatz(i)\n",
    "        if size > max_size:\n",
    "            max_size = size\n",
    "            pair = (i, max_size)\n",
    "    return pair\n",
    "\n",
    "start = time.time()\n",
    "print(maxsize(1000000))\n",
    "end = time.time()\n",
    "print('Total time: {} sec'.format(end-start))"
   ]
  },
  {
   "cell_type": "code",
   "execution_count": 48,
   "metadata": {},
   "outputs": [
    {
     "name": "stdout",
     "output_type": "stream",
     "text": [
      "(837799, 524)\n",
      "Total time: 5.22654509544 sec\n"
     ]
    }
   ],
   "source": [
    "# Store pre-computed values\n",
    "def collatz_memory(n, lookup):\n",
    "    elements = []\n",
    "    counter = 0\n",
    "    while n > 1:\n",
    "        if n in lookup:\n",
    "            elements.append('['+str(n)+']')\n",
    "            return (counter + lookup[n], elements)\n",
    "        if n % 2 == 0:\n",
    "            n /= 2\n",
    "        else:\n",
    "            n = 3*n + 1\n",
    "        elements.append(n)\n",
    "        counter += 1\n",
    "    return counter, elements\n",
    "\n",
    "def maxsize_memory(max_value):\n",
    "    max_size = 0\n",
    "    lookup = {}\n",
    "    for i in range(1, max_value):\n",
    "        size, elements = collatz_memory(i, lookup)\n",
    "        lookup[i] = size\n",
    "        #print i, size, elements\n",
    "        if size > max_size:\n",
    "            max_size = size\n",
    "            pair = (i, max_size)\n",
    "    return pair\n",
    "\n",
    "start = time.time()\n",
    "print(maxsize_memory(1000000))\n",
    "end = time.time()\n",
    "print('Total time: {} sec'.format(end-start))"
   ]
  },
  {
   "cell_type": "code",
   "execution_count": 50,
   "metadata": {},
   "outputs": [
    {
     "name": "stdout",
     "output_type": "stream",
     "text": [
      "6\n",
      "Total time: 0.00101709365845 sec\n"
     ]
    }
   ],
   "source": [
    "## Recursively\n",
    "def collatz_recursive(n, count):\n",
    "    if n == 1:\n",
    "        return 1\n",
    "    \n",
    "    if n % 2 == 0:\n",
    "        count += collatz_recursive(n/2, count)\n",
    "    else:\n",
    "        count += collatz_recursive(3*n+1, count)\n",
    "    return count\n",
    "\n",
    "start = time.time()\n",
    "print(collatz_recursive(5, 1))\n",
    "end = time.time()\n",
    "print('Total time: {} sec'.format(end-start))"
   ]
  },
  {
   "cell_type": "code",
   "execution_count": 52,
   "metadata": {},
   "outputs": [
    {
     "name": "stdout",
     "output_type": "stream",
     "text": [
      "(837799, 524)\n",
      "Total time: 5.42136192322 sec\n"
     ]
    }
   ],
   "source": [
    "## Recursively with lookup dictionary\n",
    "def collatz_recursive_memory(n, count, lookup):\n",
    "    if n == 1:\n",
    "        return 1\n",
    "    if n in lookup:\n",
    "        return count + lookup[n]\n",
    "    \n",
    "    if n % 2 == 0:\n",
    "        count += collatz_recursive(n/2, count)\n",
    "    else:\n",
    "        count += collatz_recursive(3*n+1, count)\n",
    "    return count\n",
    "\n",
    "def maxsize_recursive_memory(max_value):\n",
    "    max_size = 0\n",
    "    lookup = {}\n",
    "    for i in range(1, max_value):\n",
    "        size, elements = collatz_recursive_memory(i, 1, lookup)\n",
    "        lookup[i] = size\n",
    "        #print i, size, elements\n",
    "        if size > max_size:\n",
    "            max_size = size\n",
    "            pair = (i, max_size)\n",
    "    return pair\n",
    "\n",
    "start = time.time()\n",
    "print(maxsize_memory(1000000))\n",
    "end = time.time()\n",
    "print('Total time: {} sec'.format(end-start))"
   ]
  }
 ],
 "metadata": {
  "kernelspec": {
   "display_name": "Python 2",
   "language": "python",
   "name": "python2"
  },
  "language_info": {
   "codemirror_mode": {
    "name": "ipython",
    "version": 2
   },
   "file_extension": ".py",
   "mimetype": "text/x-python",
   "name": "python",
   "nbconvert_exporter": "python",
   "pygments_lexer": "ipython2",
   "version": "2.7.12"
  }
 },
 "nbformat": 4,
 "nbformat_minor": 2
}
