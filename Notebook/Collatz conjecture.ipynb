{
 "cells": [
  {
   "cell_type": "markdown",
   "metadata": {},
   "source": [
    "# Collatz conjecture \n",
    "\n",
    "According to [Wikipedia](https://en.wikipedia.org/wiki/Collatz_conjecture), the Collatz conjecture is a conjecture in mathematics that concerns a sequence defined as follows: start with any positive integer $n$. Then each term is obtained from the previous term as follows: if the previous term is even, the next term is one half the previous term. If the previous term is odd, the next term is 3 times the previous term plus 1. The conjecture is that no matter what value of $n$, the sequence will always reach 1.\n",
    "\n",
    "In modular arithmetic notation, define the function $f$ as follows:\n",
    "\n",
    "$\n",
    "f(n) = \\left\\{\\begin{matrix}\n",
    "n/2  & \\text{if}\\ n \\equiv 0 & (\\text{mod}\\ 2) \\\\ \n",
    "3n+1 & \\text{if}\\ n \\equiv 1 & (\\text{mod}\\ 2) \n",
    "\\end{matrix}\\right.\n",
    "$\n",
    "\n",
    "Thus, given a value of $n=12$, the generated sequence corresponds to \\[12, 6, 3, 10, 5, 16, 8, 4, 2, 1\\]. "
   ]
  },
  {
   "cell_type": "code",
   "execution_count": 1,
   "metadata": {},
   "outputs": [],
   "source": [
    "# Use in all instances to check time\n",
    "import time"
   ]
  },
  {
   "cell_type": "code",
   "execution_count": 46,
   "metadata": {},
   "outputs": [
    {
     "name": "stdout",
     "output_type": "stream",
     "text": [
      "(9, [40, 20, 10, 5, 16, 8, 4, 2, 1])\n",
      "Total time: 0.000306129455566 sec\n"
     ]
    }
   ],
   "source": [
    "# Solving the Collatz conjecture \n",
    "## Naive approach\n",
    "\n",
    "def collatz(n):\n",
    "    elements = []\n",
    "    counter = 0\n",
    "    while n > 1:\n",
    "        if n % 2 == 0:\n",
    "            n /= 2\n",
    "        else:\n",
    "            n = 3*n + 1\n",
    "        elements.append(n)\n",
    "        counter += 1\n",
    "    return counter, elements\n",
    "\n",
    "start = time.time()\n",
    "print(collatz(13))\n",
    "end = time.time()\n",
    "print('Total time: {} sec'.format(end-start))"
   ]
  },
  {
   "cell_type": "code",
   "execution_count": 47,
   "metadata": {},
   "outputs": [
    {
     "name": "stdout",
     "output_type": "stream",
     "text": [
      "(837799, 524)\n",
      "Total time: 46.9648151398 sec\n"
     ]
    }
   ],
   "source": [
    "def maxsize(max_value):\n",
    "    max_size = 0\n",
    "    for i in range(1, max_value):\n",
    "        size, _ = collatz(i)\n",
    "        if size > max_size:\n",
    "            max_size = size\n",
    "            pair = (i, max_size)\n",
    "    return pair\n",
    "\n",
    "start = time.time()\n",
    "print(maxsize(1000000))\n",
    "end = time.time()\n",
    "print('Total time: {} sec'.format(end-start))"
   ]
  },
  {
   "cell_type": "code",
   "execution_count": 17,
   "metadata": {},
   "outputs": [
    {
     "name": "stdout",
     "output_type": "stream",
     "text": [
      "(837799, 524)\n",
      "Total time: 5.69960403442 sec\n"
     ]
    }
   ],
   "source": [
    "# Store pre-computed values\n",
    "def collatz_memory(n, lookup):\n",
    "    elements = []\n",
    "    counter = 0\n",
    "    while n > 1:\n",
    "        if n in lookup:\n",
    "            elements.append('['+str(n)+']')\n",
    "            return (counter + lookup[n], elements)\n",
    "        if n % 2 == 0:\n",
    "            n /= 2\n",
    "        else:\n",
    "            n = 3*n + 1\n",
    "        elements.append(n)\n",
    "        counter += 1\n",
    "    return counter, elements\n",
    "\n",
    "def maxsize_memory(max_value):\n",
    "    max_size = 0\n",
    "    lookup = {}\n",
    "    for i in range(1, max_value):\n",
    "        size, elements = collatz_memory(i, lookup)\n",
    "        lookup[i] = size\n",
    "        #print i, size, elements\n",
    "        if size > max_size:\n",
    "            max_size = size\n",
    "            pair = (i, max_size)\n",
    "    return pair\n",
    "\n",
    "start = time.time()\n",
    "print(maxsize_memory(1000000))\n",
    "end = time.time()\n",
    "print('Total time: {} sec'.format(end-start))"
   ]
  },
  {
   "cell_type": "code",
   "execution_count": 30,
   "metadata": {},
   "outputs": [
    {
     "name": "stdout",
     "output_type": "stream",
     "text": [
      "525\n",
      "Total time: 0.000596046447754 sec\n"
     ]
    }
   ],
   "source": [
    "## Recursively\n",
    "def collatz_recursive(n, count):\n",
    "    if n == 1:\n",
    "        return 1\n",
    "    \n",
    "    if n % 2 == 0:\n",
    "        count += collatz_recursive(n/2, count)\n",
    "    else:\n",
    "        count += collatz_recursive(3*n+1, count)\n",
    "    return count\n",
    "\n",
    "start = time.time()\n",
    "print(collatz_recursive(837799, 1))\n",
    "end = time.time()\n",
    "print('Total time: {} sec'.format(end-start))"
   ]
  },
  {
   "cell_type": "code",
   "execution_count": 32,
   "metadata": {},
   "outputs": [
    {
     "name": "stdout",
     "output_type": "stream",
     "text": [
      "(837799, 524)\n",
      "Total time: 3.67423701286 sec\n"
     ]
    }
   ],
   "source": [
    "## Recursively with lookup dictionary\n",
    "def collatz_recursive_memory(n, count, lookup):\n",
    "    if n == 1:\n",
    "        return 1\n",
    "    if n in lookup:\n",
    "        return count + lookup[n]\n",
    "    \n",
    "    if n % 2 == 0:\n",
    "        count += collatz_recursive_memory(n/2, count, lookup)\n",
    "    else:\n",
    "        count += collatz_recursive_memory(3*n+1, count, lookup)\n",
    "    return count\n",
    "\n",
    "def maxsize_recursive_memory(max_value):\n",
    "    max_size = 0\n",
    "    lookup = {}\n",
    "    for i in range(1, max_value):\n",
    "        size = collatz_recursive_memory(i, 1, lookup)\n",
    "        size -= 1\n",
    "        lookup[i] = size\n",
    "        #print i, size, elements\n",
    "        if size > max_size:\n",
    "            max_size = size\n",
    "            pair = (i, max_size)\n",
    "    return pair\n",
    "\n",
    "start = time.time()\n",
    "print(maxsize_recursive_memory(837800))\n",
    "end = time.time()\n",
    "print('Total time: {} sec'.format(end-start))"
   ]
  },
  {
   "cell_type": "code",
   "execution_count": null,
   "metadata": {},
   "outputs": [],
   "source": []
  }
 ],
 "metadata": {
  "kernelspec": {
   "display_name": "Python 2",
   "language": "python",
   "name": "python2"
  },
  "language_info": {
   "codemirror_mode": {
    "name": "ipython",
    "version": 2
   },
   "file_extension": ".py",
   "mimetype": "text/x-python",
   "name": "python",
   "nbconvert_exporter": "python",
   "pygments_lexer": "ipython2",
   "version": "2.7.12"
  }
 },
 "nbformat": 4,
 "nbformat_minor": 2
}
