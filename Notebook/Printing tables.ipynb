{
 "cells": [
  {
   "cell_type": "markdown",
   "metadata": {},
   "source": [
    "# Coletando dados de Ping\n",
    "\n",
    "A função abaixo serve só para criar a tabela depois. Acredito que tenhas uma função que vá retornar os dados de URL, IP, Status, Data e Hora. Assim, coloquei os dados só pra criar a tabela mesmo."
   ]
  },
  {
   "cell_type": "code",
   "execution_count": null,
   "metadata": {},
   "outputs": [],
   "source": [
    "# Coleta os dados de ping\n",
    "def ping_sites():\n",
    "    pings = [\n",
    "        ['www.google.com', '172.217.162.164', 'Ativo', '31/05/2019', '20:23:45'],\n",
    "        ['www.teste.com.br', 'xxx.xxx.xxx.xxx', 'IP NAO ENCONTRADO', '31/05/2019', '20:23:47'],\n",
    "        ['www.google.com', '172.217.162.164', 'Ativo', '31/05/2019', '20:23:50'] \n",
    "    ]\n",
    "    return pings"
   ]
  },
  {
   "cell_type": "markdown",
   "metadata": {},
   "source": [
    "# Imprimindo lista de pings feita manualmente\n",
    "\n",
    "Esta função foi criada manualmente para mostrar a lista de pings. Ela recebe como entrada uma lista de listas na mesma forma obtida pela função `ping_sites()`. Assim, a tua função que retorna os valores de ping deverá estar em conformidade com o formato de `ping_sites()`. \n",
    "\n",
    "Com a lista de pings recebida na entrada, a primeira coisa que a função faz é calcular qual a maior URL, para poder corrigir o número de `-` que irá adicionar antes da palavra `URL` no cabeçalho. Para a criação do cabeçalho, ele calcula o tamanho da maior URL e diminui de 3 pois é o tamanho da palavra 'URL'. A quantidade de `-` para os outros items (IP, Status, Data e Hora) eu deixei fixo, pois os mesmos não mudam de tamanho.\n",
    "\n",
    "Depois de imprimir o cabeçalho, ele vai imprimir o conteúdo das tuas listas de ping. Assim, ele tem que calcular quanto espaço em branco vai colocar no final de cada uma das URLs para não prejudicar a correta identação da tabela. Então, para cada linha da tabela, ele calcula o tamanho da URL e diminui do tamanho da maior delas, preenchendo com espaços em branco até chegar à `|`. Para os outros items (IP, Status, Data e Hora), como eles têm valores fixos de tamanho, eu só diminuo o tamanho total (19 para o Status, 15 para a Data e Hora) do tamnho do item que vai na célula e adiciono espaços em branco até completar a linha."
   ]
  },
  {
   "cell_type": "code",
   "execution_count": 31,
   "metadata": {},
   "outputs": [
    {
     "name": "stdout",
     "output_type": "stream",
     "text": [
      "-------------URL | IP ------------ | Status ------------ | Data ---------- | Hora ---------- |\n",
      "www.google.com   | 172.217.162.164 | Ativo               | 31/05/2019      | 31/05/2019      |\n",
      "www.teste.com.br | xxx.xxx.xxx.xxx | IP NAO ENCONTRADO   | 31/05/2019      | 31/05/2019      |\n",
      "www.google.com   | 172.217.162.164 | Ativo               | 31/05/2019      | 31/05/2019      |\n"
     ]
    }
   ],
   "source": [
    "def show_table(list_pings):\n",
    "    # verifica o tamanho da maior url\n",
    "    max_size = 0\n",
    "    for vping in list_pings:\n",
    "        size_url = len(vping[0])\n",
    "        if size_url > max_size:\n",
    "            max_size = size_url\n",
    "    \n",
    "    #prepara o cabeçalho\n",
    "    header = '-'*(max_size - 3)+'URL'\n",
    "    header += ' | IP ------------'\n",
    "    header += ' | Status ------------'\n",
    "    header += ' | Data ----------'\n",
    "    header += ' | Hora ---------- |'\n",
    "    print(header)\n",
    "    \n",
    "    # imprime os dados de cada ping\n",
    "    for pings in list_pings:\n",
    "        content = pings[0]+' '*(max_size-len(pings[0]))+' | '+pings[1]\n",
    "        content += ' | '+pings[2]+' '*(19-len(pings[2]))\n",
    "        content += ' | '+pings[3]+' '*(15-len(pings[3]))\n",
    "        content += ' | '+pings[3]+' '*(15-len(pings[3]))+' |'\n",
    "        print(content)\n",
    "    \n",
    "show_table(ping_sites())"
   ]
  },
  {
   "cell_type": "markdown",
   "metadata": {},
   "source": [
    "# Bibliotecas para imprimir tabelas\n",
    "\n",
    "Existem algumas bibliotecas prontas em Python para imprimir dados tabulares. Não sei se podes usar elas para mostrar os dados, mas abaixo eu coloquei algumas delas para dares uma olhada. Elas são funções prontas em que tu só passa a tua lista de listas e ela imprime os dados em forma de tabela. Dá uma olhada nelas abaixo.\n",
    "\n",
    "## Tabulate library\n",
    "\n",
    "Para instalar essa biblioteca tens que digitar no terminal\n",
    "\n",
    "```\n",
    "pip install tabulate\n",
    "```\n",
    "Depois disso, podes usar como:"
   ]
  },
  {
   "cell_type": "code",
   "execution_count": 32,
   "metadata": {},
   "outputs": [
    {
     "name": "stdout",
     "output_type": "stream",
     "text": [
      "----------------  ---------------  -----------------  ----------  --------\n",
      "www.google.com    172.217.162.164  Ativo              31/05/2019  20:23:45\n",
      "www.teste.com.br  xxx.xxx.xxx.xxx  IP NAO ENCONTRADO  31/05/2019  20:23:47\n",
      "www.google.com    172.217.162.164  Ativo              31/05/2019  20:23:50\n",
      "----------------  ---------------  -----------------  ----------  --------\n"
     ]
    }
   ],
   "source": [
    "from tabulate import tabulate\n",
    "print tabulate(ping_sites())"
   ]
  },
  {
   "cell_type": "markdown",
   "metadata": {},
   "source": [
    "## PrettyTable library\n",
    "\n",
    "Para instalar essa biblioteca tens que digitar no terminal\n",
    "\n",
    "```\n",
    "pip install PrettyTable\n",
    "```\n",
    "Depois disso, podes usar como:"
   ]
  },
  {
   "cell_type": "code",
   "execution_count": 33,
   "metadata": {},
   "outputs": [
    {
     "name": "stdout",
     "output_type": "stream",
     "text": [
      "+------------------+-----------------+-------------------+------------+----------+\n",
      "|       URL        |        IP       |       Status      |    Data    |   Hora   |\n",
      "+------------------+-----------------+-------------------+------------+----------+\n",
      "|  www.google.com  | 172.217.162.164 |       Ativo       | 31/05/2019 | 20:23:45 |\n",
      "| www.teste.com.br | xxx.xxx.xxx.xxx | IP NAO ENCONTRADO | 31/05/2019 | 20:23:47 |\n",
      "|  www.google.com  | 172.217.162.164 |       Ativo       | 31/05/2019 | 20:23:50 |\n",
      "+------------------+-----------------+-------------------+------------+----------+\n"
     ]
    }
   ],
   "source": [
    "from prettytable import PrettyTable\n",
    "\n",
    "header = ['URL', 'IP', 'Status', 'Data', 'Hora']\n",
    "table = PrettyTable(header)\n",
    "for line in ping_sites():\n",
    "    table.add_row(line)\n",
    "print(table)"
   ]
  },
  {
   "cell_type": "markdown",
   "metadata": {},
   "source": [
    "## TextTable library \n",
    "\n",
    "Para instalar essa biblioteca tens que digitar no terminal\n",
    "\n",
    "```\n",
    "pip install texttable\n",
    "```\n",
    "Depois disso, podes usar como:"
   ]
  },
  {
   "cell_type": "code",
   "execution_count": 36,
   "metadata": {},
   "outputs": [
    {
     "name": "stdout",
     "output_type": "stream",
     "text": [
      "+------------------+-----------------+-----------------+------------+----------+\n",
      "|       URL        |       IP        |     Status      |    Data    |   Hora   |\n",
      "+==================+=================+=================+============+==========+\n",
      "| www.google.com   | 172.217.162.164 | Ativo           | 31/05/2019 | 20:23:45 |\n",
      "+------------------+-----------------+-----------------+------------+----------+\n",
      "| www.teste.com.br | xxx.xxx.xxx.xxx | IP NAO          | 31/05/2019 | 20:23:47 |\n",
      "|                  |                 | ENCONTRADO      |            |          |\n",
      "+------------------+-----------------+-----------------+------------+----------+\n",
      "| www.google.com   | 172.217.162.164 | Ativo           | 31/05/2019 | 20:23:50 |\n",
      "+------------------+-----------------+-----------------+------------+----------+\n"
     ]
    }
   ],
   "source": [
    "from texttable import Texttable\n",
    "\n",
    "content = [['URL', 'IP', 'Status', 'Data', 'Hora']]\n",
    "for line in ping_sites():\n",
    "    content.append(line)\n",
    "    \n",
    "table = Texttable()\n",
    "table.add_rows(content)\n",
    "print(table.draw())"
   ]
  },
  {
   "cell_type": "markdown",
   "metadata": {},
   "source": [
    "## TextTable library\n",
    "\n",
    "Para instalar essa biblioteca tens que digitar no terminal\n",
    "\n",
    "```\n",
    "pip install terminaltables\n",
    "```\n",
    "Depois disso, podes usar como:"
   ]
  },
  {
   "cell_type": "code",
   "execution_count": 37,
   "metadata": {},
   "outputs": [
    {
     "name": "stdout",
     "output_type": "stream",
     "text": [
      "+------------------+-----------------+-------------------+------------+----------+\n",
      "| URL              | IP              | Status            | Data       | Hora     |\n",
      "+------------------+-----------------+-------------------+------------+----------+\n",
      "| www.google.com   | 172.217.162.164 | Ativo             | 31/05/2019 | 20:23:45 |\n",
      "| www.teste.com.br | xxx.xxx.xxx.xxx | IP NAO ENCONTRADO | 31/05/2019 | 20:23:47 |\n",
      "| www.google.com   | 172.217.162.164 | Ativo             | 31/05/2019 | 20:23:50 |\n",
      "+------------------+-----------------+-------------------+------------+----------+\n"
     ]
    }
   ],
   "source": [
    "from terminaltables import AsciiTable\n",
    "\n",
    "content = [['URL', 'IP', 'Status', 'Data', 'Hora']]\n",
    "for line in ping_sites():\n",
    "    content.append(line)\n",
    "\n",
    "table = AsciiTable(content)\n",
    "print(table.table)"
   ]
  },
  {
   "cell_type": "code",
   "execution_count": null,
   "metadata": {},
   "outputs": [],
   "source": []
  }
 ],
 "metadata": {
  "kernelspec": {
   "display_name": "Python 2",
   "language": "python",
   "name": "python2"
  },
  "language_info": {
   "codemirror_mode": {
    "name": "ipython",
    "version": 2
   },
   "file_extension": ".py",
   "mimetype": "text/x-python",
   "name": "python",
   "nbconvert_exporter": "python",
   "pygments_lexer": "ipython2",
   "version": "2.7.12"
  }
 },
 "nbformat": 4,
 "nbformat_minor": 2
}
