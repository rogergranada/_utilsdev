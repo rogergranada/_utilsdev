{
 "cells": [
  {
   "cell_type": "markdown",
   "metadata": {},
   "source": [
    "# Rotate ROS Map\n",
    "\n",
    "Based on a gold standard map, i.e., a map correctly oriented, rotated a new map by using the features presented in both maps. In order to do so, we use [ORB](https://docs.opencv.org/3.0-beta/doc/py_tutorials/py_feature2d/py_orb/py_orb.html) to detect features and [Homography](https://docs.opencv.org/3.4/d9/d0c/group__calib3d.html#ga4abc2ece9fab9398f2e560d53c8c9780), i.e, a 3x3 matrix transformation, to map the points in one image to the corresponding points in the other image. "
   ]
  },
  {
   "cell_type": "code",
   "execution_count": 2,
   "metadata": {},
   "outputs": [],
   "source": [
    "import cv2\n",
    "import numpy as np"
   ]
  },
  {
   "cell_type": "code",
   "execution_count": 3,
   "metadata": {},
   "outputs": [
    {
     "name": "stdout",
     "output_type": "stream",
     "text": [
      "Map shape: (400, 400, 3) \n",
      "Image shape: (400, 400, 3) \n"
     ]
    }
   ],
   "source": [
    "# Read images\n",
    "# Gold standard map\n",
    "fgoldmap = 'images/rotated_map.png'\n",
    "goldmap = cv2.imread(fgoldmap)\n",
    "# Map to align\n",
    "fimagemap = 'images/map.png'\n",
    "imagemap = cv2.imread(fimagemap)\n",
    "print('Map shape: (%d, %d, %d) ' % goldmap.shape)\n",
    "print('Image shape: (%d, %d, %d) ' % imagemap.shape)"
   ]
  },
  {
   "cell_type": "markdown",
   "metadata": {},
   "source": [
    "<div class=\"row\">\n",
    "    <div class=\"column\" style=\"float: left; width: 50%; padding: 5px;\">\n",
    "        Gold standard map:<br>\n",
    "        <img src=\"images/rotated_map.png\" style=\"width:70%\">\n",
    "    </div>\n",
    "    <div class=\"column\" style=\"float: right; width: 50%; padding: 5px;\">\n",
    "        Map to align:<br>\n",
    "        <img src=\"images/map.png\" style=\"width:70%\">\n",
    "    </div>\n",
    "</div>"
   ]
  },
  {
   "cell_type": "code",
   "execution_count": 4,
   "metadata": {},
   "outputs": [],
   "source": [
    "MAX_FEATS = 300\n",
    "MATCH_PERCENT = 0.5\n",
    "\n",
    "def align_images(image, goldimg):\n",
    "    # Convert images to grayscale\n",
    "    gray_image = cv2.cvtColor(image, cv2.COLOR_BGR2GRAY)\n",
    "    gray_goldimg = cv2.cvtColor(goldimg, cv2.COLOR_BGR2GRAY)\n",
    "   \n",
    "    # Use ORB to detect features\n",
    "    orb = cv2.ORB_create(MAX_FEATS)\n",
    "    keypts_image, desc_image = orb.detectAndCompute(gray_image, None)\n",
    "    keypts_goldimg, desc_goldimg = orb.detectAndCompute(gray_goldimg, None)\n",
    "   \n",
    "    # Match features.\n",
    "    matcher = cv2.DescriptorMatcher_create(cv2.DESCRIPTOR_MATCHER_BRUTEFORCE_HAMMING)\n",
    "    matches = matcher.match(desc_image, desc_goldimg, None)\n",
    "   \n",
    "    # Sort matches by score\n",
    "    matches.sort(key=lambda x: x.distance, reverse=False)\n",
    " \n",
    "    # Remove not so good matches\n",
    "    nb_matches = int(len(matches) * MATCH_PERCENT)\n",
    "    matches = matches[:nb_matches]\n",
    " \n",
    "    # Draw top matches\n",
    "    img_matches = cv2.drawMatches(image, keypts_image, goldimg, keypts_goldimg, matches, None)\n",
    "    cv2.imwrite(\"out/matches.png\", img_matches)\n",
    "   \n",
    "    # Extract location of good matches\n",
    "    points_image = np.zeros((len(matches), 2), dtype=np.float32)\n",
    "    points_goldimg = np.zeros((len(matches), 2), dtype=np.float32)\n",
    " \n",
    "    for i, match in enumerate(matches):\n",
    "        points_image[i, :] = keypts_image[match.queryIdx].pt\n",
    "        points_goldimg[i, :] = keypts_goldimg[match.trainIdx].pt\n",
    "   \n",
    "    # Find homography\n",
    "    h, mask = cv2.findHomography(points_image, points_goldimg, cv2.RANSAC)\n",
    " \n",
    "    # Use homography\n",
    "    height, width, channels = goldimg.shape\n",
    "    aligned = cv2.warpPerspective(image, h, (width, height), borderValue=(205, 205, 205))\n",
    "    return aligned, h\n",
    "\n",
    "alignedmap, h = align_images(imagemap, goldmap)"
   ]
  },
  {
   "cell_type": "code",
   "execution_count": 5,
   "metadata": {},
   "outputs": [
    {
     "name": "stdout",
     "output_type": "stream",
     "text": [
      "Saving aligned image : out/aligned.png\n",
      "Estimated homography :\n",
      "[[ 8.86878458e-01 -4.32318043e-01  1.24927141e+02]\n",
      " [ 4.27995137e-01  8.89726206e-01 -5.10845821e+01]\n",
      " [-4.32292492e-05  9.03679428e-06  1.00000000e+00]]\n"
     ]
    }
   ],
   "source": [
    "outFilename = \"out/aligned.png\"\n",
    "print(\"Saving aligned image : %s\" % outFilename) \n",
    "cv2.imwrite(outFilename, alignedmap)\n",
    "\n",
    "# Print estimated homography\n",
    "print(\"Estimated homography :\")\n",
    "print(h)"
   ]
  },
  {
   "cell_type": "markdown",
   "metadata": {},
   "source": [
    "<div class=\"row\">\n",
    "    <div class=\"column\" style=\"float: left; width: 70%; padding: 5px;\">\n",
    "        Matches between images:<br>\n",
    "        <img src=\"images/matches.png\" style=\"width:85%\">\n",
    "    </div>\n",
    "    <div class=\"column\" style=\"float: right; width: 30%; padding: 5px;\">\n",
    "        Aligned Map:<br>\n",
    "        <img src=\"images/aligned.png\" style=\"width:100%\">\n",
    "    </div>\n",
    "</div>"
   ]
  },
  {
   "cell_type": "markdown",
   "metadata": {},
   "source": [
    "# Finding the rotation angle from Homography matrix"
   ]
  },
  {
   "cell_type": "code",
   "execution_count": 6,
   "metadata": {},
   "outputs": [
    {
     "name": "stdout",
     "output_type": "stream",
     "text": [
      "The rotation angle is: 25.987396\n"
     ]
    }
   ],
   "source": [
    "import math\n",
    "theta = - math.atan2(h[0,1], h[0,0]) * 180 / math.pi\n",
    "print('The rotation angle is: %f' % theta)"
   ]
  }
 ],
 "metadata": {
  "kernelspec": {
   "display_name": "Python 2",
   "language": "python",
   "name": "python2"
  },
  "language_info": {
   "codemirror_mode": {
    "name": "ipython",
    "version": 2
   },
   "file_extension": ".py",
   "mimetype": "text/x-python",
   "name": "python",
   "nbconvert_exporter": "python",
   "pygments_lexer": "ipython2",
   "version": "2.7.12"
  }
 },
 "nbformat": 4,
 "nbformat_minor": 2
}
