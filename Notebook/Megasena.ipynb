{
 "cells": [
  {
   "cell_type": "markdown",
   "metadata": {},
   "source": [
    "# Megasena Parser\n",
    "\n",
    "Read HTML file containing all numbers of the [Megasena](http://www1.caixa.gov.br/loterias/_arquivos/loterias/D_megase.zip)\n"
   ]
  },
  {
   "cell_type": "code",
   "execution_count": 1,
   "metadata": {
    "collapsed": true
   },
   "outputs": [],
   "source": [
    "from bs4 import BeautifulSoup"
   ]
  },
  {
   "cell_type": "code",
   "execution_count": 4,
   "metadata": {},
   "outputs": [],
   "source": [
    "MEGA_HTML = '/home/roger/Downloads/D_megase/D_MEGA.HTM'\n",
    "html = open(MEGA_HTML).read()\n",
    "soup = BeautifulSoup(html, 'html')"
   ]
  },
  {
   "cell_type": "code",
   "execution_count": 25,
   "metadata": {},
   "outputs": [
    {
     "data": {
      "text/plain": [
       "[(u'11/03/1996', [41, 5, 4, 52, 30, 33]),\n",
       " (u'18/03/1996', [9, 39, 37, 49, 43, 41]),\n",
       " (u'25/03/1996', [36, 30, 10, 11, 29, 47]),\n",
       " (u'01/04/1996', [6, 59, 42, 27, 1, 5]),\n",
       " (u'08/04/1996', [1, 19, 46, 6, 16, 2]),\n",
       " (u'15/04/1996', [19, 40, 7, 13, 22, 47]),\n",
       " (u'22/04/1996', [56, 38, 21, 20, 3, 5]),\n",
       " (u'29/04/1996', [53, 17, 38, 4, 47, 37]),\n",
       " (u'06/05/1996', [55, 43, 56, 54, 8, 60]),\n",
       " (u'13/05/1996', [25, 4, 18, 57, 21, 38])]"
      ]
     },
     "execution_count": 25,
     "metadata": {},
     "output_type": "execute_result"
    }
   ],
   "source": [
    "fcontent = lambda node: [x.text for x in node if x not in ('\\n', ' ')]\n",
    "content = [fcontent(x)[1:8] for x in soup.body.table.contents[2:] if x not in ('\\n', ' ')]\n",
    "content = [(x[0], map(int, x[1:])) for x in content]\n",
    "content = [x for x in content if x[1]]\n",
    "content[:10]"
   ]
  },
  {
   "cell_type": "code",
   "execution_count": 44,
   "metadata": {},
   "outputs": [
    {
     "name": "stdout",
     "output_type": "stream",
     "text": [
      "Date: 11/03/1996 - Correct: 6\n"
     ]
    }
   ],
   "source": [
    "# Verify how many points (larger than 5 correct answers) have achieved for 6 numbers\n",
    "BET=[5, 4, 41, 52, 30, 33]\n",
    "\n",
    "def check_correct(content, vbet, threshold=4):\n",
    "    for lottery in content:\n",
    "        date, game = lottery\n",
    "        correct = set(vbet).intersection(set(game))\n",
    "        if len(correct) >= threshold:\n",
    "            print('Date: %s - Correct: %d' % (date, len(correct)))\n",
    "            \n",
    "check_correct(content, BET, threshold=4)"
   ]
  },
  {
   "cell_type": "code",
   "execution_count": 49,
   "metadata": {},
   "outputs": [],
   "source": [
    "# Get the numbers with more occurrences\n",
    "\n",
    "from collections import Counter\n",
    "import operator\n",
    "\n",
    "numbers = []\n",
    "for lottery in content:\n",
    "    _, game = lottery\n",
    "    numbers.extend(game)\n",
    "counter = Counter(numbers)\n",
    "sorted_counter = sorted(counter.items(), key=operator.itemgetter(1), reverse=True)"
   ]
  },
  {
   "cell_type": "code",
   "execution_count": 50,
   "metadata": {},
   "outputs": [
    {
     "data": {
      "text/plain": [
       "[10, 5, 53, 4, 23, 33]"
      ]
     },
     "execution_count": 50,
     "metadata": {},
     "output_type": "execute_result"
    }
   ],
   "source": [
    "highest_bet = [v for v, _ in sorted_counter[:6]]\n",
    "highest_bet"
   ]
  },
  {
   "cell_type": "code",
   "execution_count": 51,
   "metadata": {},
   "outputs": [
    {
     "name": "stdout",
     "output_type": "stream",
     "text": [
      "Date: 16/04/2014 - Correct: 4\n"
     ]
    }
   ],
   "source": [
    "check_correct(content, highest_bet, threshold=4)"
   ]
  },
  {
   "cell_type": "code",
   "execution_count": 72,
   "metadata": {},
   "outputs": [
    {
     "name": "stdout",
     "output_type": "stream",
     "text": [
      "[40, 7, 4, 31, 36, 56]\n",
      "Date: 16/09/2000 - Correct: 4\n",
      "Date: 14/07/2018 - Correct: 4\n"
     ]
    }
   ],
   "source": [
    "# Test random numbers\n",
    "import random\n",
    "\n",
    "random_bet =  random.sample(xrange(1,61), 6)\n",
    "print(random_bet)\n",
    "check_correct(content, random_bet, threshold=4)"
   ]
  },
  {
   "cell_type": "code",
   "execution_count": null,
   "metadata": {
    "collapsed": true
   },
   "outputs": [],
   "source": []
  },
  {
   "cell_type": "code",
   "execution_count": null,
   "metadata": {
    "collapsed": true
   },
   "outputs": [],
   "source": []
  }
 ],
 "metadata": {
  "kernelspec": {
   "display_name": "Python 2",
   "language": "python",
   "name": "python2"
  },
  "language_info": {
   "codemirror_mode": {
    "name": "ipython",
    "version": 2
   },
   "file_extension": ".py",
   "mimetype": "text/x-python",
   "name": "python",
   "nbconvert_exporter": "python",
   "pygments_lexer": "ipython2",
   "version": "2.7.14"
  }
 },
 "nbformat": 4,
 "nbformat_minor": 1
}
