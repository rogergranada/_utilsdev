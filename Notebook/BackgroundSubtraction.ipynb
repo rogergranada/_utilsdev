{
 "cells": [
  {
   "cell_type": "code",
   "execution_count": null,
   "metadata": {
    "collapsed": true
   },
   "outputs": [],
   "source": [
    "#!/usr/bin/python\n",
    "#-*- coding: utf-8 -*-\n",
    "\n",
    "import cv2\n",
    "import numpy as np\n",
    "\n",
    "fgbg = cv2.createBackgroundSubtractorMOG2()\n",
    "cap = cv2.VideoCapture(0)\n",
    "\n",
    "while(1):\n",
    "    ret, frame = cap.read()\n",
    "\n",
    "    fgmask = fgbg.apply(frame)\n",
    "\n",
    "    cv2.imshow('frame',fgmask)\n",
    "    k = cv2.waitKey(30) & 0xff\n",
    "    if k == 27:\n",
    "        break\n",
    "\n",
    "cap.release()\n",
    "cv2.destroyAllWindows()\n"
   ]
  },
  {
   "cell_type": "code",
   "execution_count": null,
   "metadata": {
    "collapsed": true
   },
   "outputs": [],
   "source": [
    "#!/usr/bin/python\n",
    "#-*- coding: utf-8 -*-\n",
    "\n",
    "import cv2\n",
    "import numpy as np\n",
    "import os\n",
    "from os.path import join, splitext\n",
    "import matplotlib.pyplot as plt\n",
    "import time\n",
    "\n",
    "HOME = '/home/roger/Desktop/img/data/'\n",
    "\n",
    "def getNamesAsInts(files_list):\n",
    "    \"\"\"\n",
    "    Receive a list containing the filenames and return a list\n",
    "    containing the numbers referring to the names.\n",
    "    \"\"\"\n",
    "    fids = []\n",
    "    for fname in files_list:\n",
    "        name, ext = splitext(fname)\n",
    "        if ext == '.jpg':\n",
    "            fids.append(int(name))\n",
    "    return sorted(fids) \n",
    "\n",
    "\n",
    "def imagens(input_folder, output_folder):\n",
    "    fgbg = cv2.createBackgroundSubtractorMOG2()\n",
    "    #kernel = cv2.getStructuringElement(cv2.MORPH_ELLIPSE,(3,3))\n",
    "    \n",
    "    files_ids = getNamesAsInts(os.listdir(input_folder))\n",
    "\n",
    "    #train background subtractor :: about 100 images\n",
    "    for id in files_ids[:100]:\n",
    "        path_img = join(input_folder, str(id)+'.jpg')\n",
    "        img = cv2.imread(path_img, 1)\n",
    "        fgbg.apply(img)\n",
    "    \n",
    "\n",
    "    for id in files_ids:\n",
    "        path_img = join(input_folder, str(id)+'.jpg')\n",
    "        path_out = join(output_folder, str(id)+'.jpg')\n",
    "        img = cv2.imread(path_img, 1)\n",
    "        fgmask = fgbg.apply(img)\n",
    "        #cv2.imshow('display',fgmask)\n",
    "        #cv2.imshow('display', img)\n",
    "        #k = cv2.waitKey(30) & 0xff\n",
    "        #if k == 27:\n",
    "        #    break\n",
    "        cv2.imwrite(path_out, fgmask)\n",
    "        #time.sleep(1)\n",
    "\n",
    "    intermitent=\"\"\"\n",
    "    i = 0\n",
    "    while True:\n",
    "        path_img = join(input_folder, str(files_ids[i])+'.jpg')\n",
    "        #print path_img\n",
    "        img = cv2.imread(path_img, 1)\n",
    "        fgmask = fgbg.apply(img)\n",
    "        cv2.imshow('display',fgmask)\n",
    "        #cv2.imshow('display', img)\n",
    "        k = cv2.waitKey(30) & 0xff\n",
    "        if k == 27:\n",
    "            break\n",
    "        if i == len(files_ids)-1:\n",
    "            i = 0\n",
    "        else:\n",
    "            i += 1\n",
    "        #time.sleep(1)\n",
    "    \"\"\"\n",
    "    cv2.destroyAllWindows()\n",
    "\n",
    "\n",
    "    \n",
    "if __name__ == \"__main__\":\n",
    "    imagens(HOME, HOME+'out/')"
   ]
  },
  {
   "cell_type": "code",
   "execution_count": 4,
   "metadata": {
    "collapsed": false
   },
   "outputs": [
    {
     "name": "stdout",
     "output_type": "stream",
     "text": [
      "[[243 250 251 ..., 166 166 166]\n",
      " [243 250 251 ..., 166 166 166]\n",
      " [243 250 251 ..., 166 166 166]\n",
      " ..., \n",
      " [179 188 190 ...,  63  62  64]\n",
      " [178 187 190 ...,  64  63  64]\n",
      " [177 187 191 ...,  65  64  64]]\n"
     ]
    }
   ],
   "source": [
    "import cv2\n",
    "import numpy as np\n",
    "import matplotlib.pyplot as plt\n",
    "from os.path import join\n",
    "HOME = '/home/roger/Desktop/img/'\n",
    "\n",
    "path_img = join(HOME, 'Image029.jpg')\n",
    "img = cv2.imread(path_img)\n",
    "\n",
    "#img2 = cv2.cvtColor(img, cv2.COLOR_BGR2YCrCb)\n",
    "#img2 = cv2.cvtColor(img, cv2.COLOR_BGR2GRAY)\n",
    "img3 = cv2.cvtColor(img, cv2.COLOR_BGR2YCrCb)\n",
    "y, cr, cb = cv2.split(img3)\n",
    "\n",
    "print y\n",
    "#cv2.cvtColor(img2, cv2.COLOR_BGR2XYZ)\n",
    "\n",
    "#cv2.imshow('display',img3)\n",
    "#cv2.waitKey(0)\n",
    "#cv2.destroyAllWindows()"
   ]
  },
  {
   "cell_type": "code",
   "execution_count": null,
   "metadata": {
    "collapsed": true
   },
   "outputs": [],
   "source": []
  }
 ],
 "metadata": {
  "kernelspec": {
   "display_name": "Python 2",
   "language": "python",
   "name": "python2"
  },
  "language_info": {
   "codemirror_mode": {
    "name": "ipython",
    "version": 2
   },
   "file_extension": ".py",
   "mimetype": "text/x-python",
   "name": "python",
   "nbconvert_exporter": "python",
   "pygments_lexer": "ipython2",
   "version": "2.7.11"
  }
 },
 "nbformat": 4,
 "nbformat_minor": 0
}
