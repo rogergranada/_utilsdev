{
 "cells": [
  {
   "cell_type": "code",
   "execution_count": 5,
   "metadata": {
    "collapsed": true
   },
   "outputs": [],
   "source": [
    "import os\n",
    "import struct\n",
    "\n",
    "import numpy as np\n",
    "import scipy.misc\n",
    "import skimage.exposure\n",
    "\n",
    "\n",
    "def read_gnt_in_directory(gnt_dirpath):\n",
    "    def samples(f):\n",
    "        header_size = 10\n",
    "\n",
    "        # read samples from f until no bytes remaining\n",
    "        while True:\n",
    "            header = np.fromfile(f, dtype='uint8', count=header_size)\n",
    "            #print '>', header\n",
    "            if not header.size: break\n",
    "\n",
    "            sample_size = header[0] + (header[1]<<8) + (header[2]<<16) + (header[3]<<24)\n",
    "            tagcode = header[5] + (header[4]<<8)\n",
    "            width = header[6] + (header[7]<<8)\n",
    "            height = header[8] + (header[9]<<8)\n",
    "            assert header_size + width*height == sample_size\n",
    "\n",
    "            bitmap = np.fromfile(f, dtype='uint8', count=width*height).reshape((height, width))\n",
    "            yield bitmap, tagcode\n",
    "\n",
    "    for file_name in os.listdir(gnt_dirpath):\n",
    "        if file_name.endswith('.gnt'):\n",
    "            file_path = os.path.join(gnt_dirpath, file_name)\n",
    "            with open(file_path, 'rb') as f:\n",
    "                for bitmap, tagcode in samples(f):\n",
    "                    yield bitmap, tagcode\n",
    "\n",
    "\n",
    "def normalize_bitmap(bitmap):\n",
    "    # pad the bitmap to make it squared\n",
    "    pad_size = abs(bitmap.shape[0]-bitmap.shape[1]) // 2\n",
    "    if bitmap.shape[0] < bitmap.shape[1]:\n",
    "        pad_dims = ((pad_size, pad_size), (0, 0))\n",
    "    else:\n",
    "        pad_dims = ((0, 0), (pad_size, pad_size))\n",
    "    bitmap = np.lib.pad(bitmap, pad_dims, mode='constant', constant_values=255)\n",
    "\n",
    "    # rescale and add empty border\n",
    "    #bitmap = scipy.misc.imresize(bitmap, (64 - 4*2, 64 - 4*2))\n",
    "    bitmap = scipy.misc.imresize(bitmap, (256 - 4*2, 256 - 4*2))\n",
    "    bitmap = np.lib.pad(bitmap, ((4, 4), (4, 4)), mode='constant', constant_values=255)\n",
    "    #assert bitmap.shape == (64, 64)\n",
    "    assert bitmap.shape == (256, 256)\n",
    "\n",
    "    bitmap = np.expand_dims(bitmap, axis=0)\n",
    "    #assert bitmap.shape == (1, 64, 64)\n",
    "    assert bitmap.shape == (1, 256, 256)\n",
    "    return bitmap\n",
    "\n",
    "def preprocess_bitmap(bitmap):\n",
    "    # contrast stretching\n",
    "    p2, p98 = np.percentile(bitmap, (2, 98))\n",
    "    assert abs(p2-p98) > 10\n",
    "    bitmap = skimage.exposure.rescale_intensity(bitmap, in_range=(p2, p98))\n",
    "\n",
    "    # from skimage.filters import threshold_otsu\n",
    "    # thresh = threshold_otsu(bitmap)\n",
    "    # bitmap = bitmap > thresh\n",
    "    return bitmap\n",
    "\n",
    "\n",
    "def tagcode_to_unicode(tagcode):\n",
    "    return struct.pack('>H', tagcode).decode('gb2312')\n",
    "\n",
    "def unicode_to_tagcode(tagcode_unicode):\n",
    "    return struct.unpack('>H', tagcode_unicode.encode('gb2312'))[0]"
   ]
  },
  {
   "cell_type": "code",
   "execution_count": 6,
   "metadata": {
    "collapsed": false
   },
   "outputs": [],
   "source": [
    "HOME='/home/roger/Desktop/chinese/HWDB1.1trn/'\n",
    "DATASET='/home/roger/Desktop/chinese/HWDB1.1trn_imgs/'\n",
    "from scipy.misc import toimage\n",
    "from os.path import join\n",
    "import cv2\n",
    "\n",
    "pathout = open(join(HOME, 'path_HWDB1.1trn.txt'), 'w')\n",
    "dset_bitmap = {}\n",
    "dset_tagcode = {}\n",
    "\n",
    "for i, (bitmap, tagcode) in enumerate(read_gnt_in_directory(HOME)):\n",
    "    dset_bitmap[i]  = normalize_bitmap(bitmap)\n",
    "    dset_tagcode[i] = tagcode\n",
    "    #print dset_bitmap[i].shape\n",
    "    #toimage(dset_bitmap[i][0]).show()\n",
    "    #print i, tagcode\n",
    "    fout = join(DATASET, str(i)+'.jpg')\n",
    "    pathout.write('%s %d\\n' % (fout, tagcode))\n",
    "    #img = cv2.resize(dset_bitmap[i][0], (256, 256), 0, 0, cv2.INTER_CUBIC)\n",
    "    cv2.imwrite(fout, dset_bitmap[i][0])\n",
    "    if i % 1000 == 0 and i != 0:\n",
    "        print i\n",
    "pathout.close()"
   ]
  },
  {
   "cell_type": "code",
   "execution_count": 12,
   "metadata": {
    "collapsed": false
   },
   "outputs": [
    {
     "name": "stdout",
     "output_type": "stream",
     "text": [
      "(256, 256)\n"
     ]
    }
   ],
   "source": [
    "from PIL import Image\n",
    "#img = Image.fromarray(dset_bitmap[i][0], 'RGB')\n",
    "#img.save('my.png')\n",
    "#img.show()\n",
    "print img.shape\n",
    "toimage(img).show()"
   ]
  },
  {
   "cell_type": "code",
   "execution_count": 23,
   "metadata": {
    "collapsed": false
   },
   "outputs": [
    {
     "name": "stdout",
     "output_type": "stream",
     "text": [
      "啊\n"
     ]
    }
   ],
   "source": [
    "print tagcode_to_unicode(45217).encode('utf-8') "
   ]
  },
  {
   "cell_type": "code",
   "execution_count": null,
   "metadata": {
    "collapsed": true
   },
   "outputs": [],
   "source": []
  }
 ],
 "metadata": {
  "kernelspec": {
   "display_name": "Python 2",
   "language": "python",
   "name": "python2"
  },
  "language_info": {
   "codemirror_mode": {
    "name": "ipython",
    "version": 2
   },
   "file_extension": ".py",
   "mimetype": "text/x-python",
   "name": "python",
   "nbconvert_exporter": "python",
   "pygments_lexer": "ipython2",
   "version": "2.7.12"
  }
 },
 "nbformat": 4,
 "nbformat_minor": 0
}
