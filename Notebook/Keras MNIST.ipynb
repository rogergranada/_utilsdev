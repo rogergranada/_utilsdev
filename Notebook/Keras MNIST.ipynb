{
 "cells": [
  {
   "cell_type": "code",
   "execution_count": 36,
   "metadata": {
    "collapsed": true
   },
   "outputs": [],
   "source": [
    "class Window(object):\n",
    "    \"\"\"\n",
    "    Class that generates a sliding window from an array\n",
    "    \"\"\" \n",
    "    def __init__(self, vec, size, mode='center'):\n",
    "        \"\"\"\n",
    "        Initiates class Window\n",
    "\n",
    "        Parameters:\n",
    "        -----------\n",
    "        vec : array_like\n",
    "            list containing labels\n",
    "        size : int\n",
    "            size of the window\n",
    "        mode : string {begin, center,  end}\n",
    "            point of the target frame\n",
    "        \"\"\"\n",
    "        self.vec = vec\n",
    "        self.size = size\n",
    "        self.mode = mode\n",
    "        self.i = 0\n",
    "        self.window = []\n",
    "\n",
    "\n",
    "    def _getBegin(self):\n",
    "        \"\"\"\n",
    "        Return the window with the target in the beginning of the vector.\n",
    "\n",
    "        Example:\n",
    "        --------\n",
    "        >>>vec = ['a', 'b', 'c', 'd']\n",
    "        >>>Window(vec, 1, mode='begin')._getBegin()\n",
    "           ['a', 'b'], ['b', 'c'], ['c', 'd'], ['d']\n",
    "        \"\"\"\n",
    "        index = self.i\n",
    "        window = []\n",
    "        if index < (len(self.vec) - self.size):\n",
    "            window.append(self.vec[index:index+self.size+1])\n",
    "        else:\n",
    "            window.append(self.vec[index:])\n",
    "        return window\n",
    "\n",
    "\n",
    "    def _getCenter(self):\n",
    "        \"\"\"\n",
    "        Return the window with the target in the center of the vector.\n",
    "\n",
    "        Example:\n",
    "        --------\n",
    "        >>>vec = ['a', 'b', 'c', 'd']\n",
    "        >>>Window(vec, 1, mode='center')._getCenter()\n",
    "           ['a', 'b'], ['a', 'b', 'c'], ['b', 'c', 'd'], ['c', 'd']\n",
    "        \"\"\"\n",
    "        index = self.i\n",
    "        window = []\n",
    "        if index <= self.size:\n",
    "            window = self.vec[:index]\n",
    "        elif index > self.size:\n",
    "            window.extend(self.vec[index-self.size:index])\n",
    "        window.append(self.vec[index])\n",
    "        if index >= (len(self.vec) - self.size):\n",
    "            window.extend(self.vec[index+1:])\n",
    "        elif index < (len(self.vec) - self.size):\n",
    "            window.extend(self.vec[index+1:index+self.size+1])\n",
    "        return window\n",
    "\n",
    "\n",
    "    def _getEnd(self):\n",
    "        \"\"\"\n",
    "        Return the window with the target in the end of the vector.\n",
    "\n",
    "        Example:\n",
    "        --------\n",
    "        >>>vec = ['a', 'b', 'c', 'd']\n",
    "        >>>Window(vec, 1, mode='begin')._getBegin()\n",
    "           ['a'], ['a', 'b'], ['b', 'c'], ['c', 'd']\n",
    "        \"\"\"\n",
    "        index = self.i\n",
    "        window = []\n",
    "        if index >= self.size:\n",
    "            window.append(self.vec[index-self.size:index+1])\n",
    "        else:\n",
    "            window.append(self.vec[:index+1])\n",
    "        return window\n",
    "\n",
    "\n",
    "    def __iter__(self):\n",
    "        \"\"\"\n",
    "        Iterates over the list of labels, yielding a window of\n",
    "        size equals to `self.size` each time.\n",
    "\n",
    "        Yields:\n",
    "        -------\n",
    "        i : int\n",
    "            index of the original list\n",
    "        vec[i] : {string, int}\n",
    "            target label in the list at index `i`\n",
    "        window : array_like\n",
    "            list containing a subset of the elements of the \n",
    "            original list\n",
    "        \"\"\"\n",
    "        for index in range(len(self.vec)):\n",
    "            self.i = index\n",
    "            if self.mode == 'begin':\n",
    "                self.window = self._getBegin()\n",
    "            elif self.mode == 'end':\n",
    "                self.window = self._getEnd()\n",
    "            else:\n",
    "                self.window = self._getCenter()\n",
    "            yield self.i, self.vec[index], self.window\n",
    "\n",
    "\n",
    "    def __str__(self):\n",
    "        return 'Window of size: %d with target %s [index %d]' % ((self.size+1)*2, self.vec[self.i], self.i)\n",
    "\n",
    "    \n",
    "    def updateVec(self, value, index=None):\n",
    "        \"\"\"Update `self.vec` with `value`\"\"\"\n",
    "        if index:\n",
    "            self.vec[index] = value\n",
    "        else:\n",
    "            self.vec[self.i] = value\n",
    "\n",
    "\n",
    "    def mode(self):\n",
    "        \"\"\"\n",
    "        Returns the mode of the window `self.window`. Mode is the value \n",
    "        that appears most often in a set of data.\n",
    "        \"\"\"\n",
    "        return stats.mode(self.window).mode[0]"
   ]
  },
  {
   "cell_type": "code",
   "execution_count": 37,
   "metadata": {
    "collapsed": false
   },
   "outputs": [
    {
     "name": "stdout",
     "output_type": "stream",
     "text": [
      "(0, 'a', ['a', 'b', 'c'])\n",
      "(1, 'b', ['a', 'b', 'c', 'd'])\n",
      "(2, 'c', ['a', 'b', 'c', 'd', 'e'])\n",
      "(3, 'd', ['b', 'c', 'd', 'e'])\n",
      "(4, 'e', ['c', 'd', 'e'])\n"
     ]
    }
   ],
   "source": [
    "vec = ['a', 'b', 'c', 'd', 'e']\n",
    "w = Window(vec, 2, mode='center')\n",
    "\n",
    "for k in w:\n",
    "    print k"
   ]
  },
  {
   "cell_type": "code",
   "execution_count": 53,
   "metadata": {
    "collapsed": false
   },
   "outputs": [
    {
     "name": "stdout",
     "output_type": "stream",
     "text": [
      "6\n",
      "(16, 11)\n"
     ]
    }
   ],
   "source": [
    "import numpy as np\n",
    "\n",
    "X_train = np.ones((10,10))\n",
    "y_train = np.zeros((10,1))\n",
    "\n",
    "nb_rows, nb_cols = X_train.shape\n",
    "X_train = np.append(X_train, y_train, axis=1)\n",
    "\n",
    "frames = 8\n",
    "X_new = []\n",
    "total = frames - (nb_rows % frames)\n",
    "print total\n",
    "for k in range(total):\n",
    "    #X_train.append(X_train[-1], axis=1)\n",
    "    X_train = np.vstack([X_train, X_train[-1]])\n",
    "\n",
    "#dim = 0\n",
    "#for n in range(nb_rows+total):\n",
    "#    if n % 16:\n",
    "#        dim += 1\n",
    "#        X_new[dim].append(X_train[n:])\n",
    "#    print n\n",
    "\n",
    "print X_train.shape"
   ]
  },
  {
   "cell_type": "code",
   "execution_count": 55,
   "metadata": {
    "collapsed": false
   },
   "outputs": [
    {
     "name": "stdout",
     "output_type": "stream",
     "text": [
      "[[[ 1.  1.  1.  1.  1.  1.  1.  1.  1.  1.  0.]\n",
      "  [ 1.  1.  1.  1.  1.  1.  1.  1.  1.  1.  0.]\n",
      "  [ 1.  1.  1.  1.  1.  1.  1.  1.  1.  1.  0.]\n",
      "  [ 1.  1.  1.  1.  1.  1.  1.  1.  1.  1.  0.]\n",
      "  [ 1.  1.  1.  1.  1.  1.  1.  1.  1.  1.  0.]\n",
      "  [ 1.  1.  1.  1.  1.  1.  1.  1.  1.  1.  0.]\n",
      "  [ 1.  1.  1.  1.  1.  1.  1.  1.  1.  1.  0.]\n",
      "  [ 1.  1.  1.  1.  1.  1.  1.  1.  1.  1.  0.]]\n",
      "\n",
      " [[ 1.  1.  1.  1.  1.  1.  1.  1.  1.  1.  0.]\n",
      "  [ 1.  1.  1.  1.  1.  1.  1.  1.  1.  1.  0.]\n",
      "  [ 1.  1.  1.  1.  1.  1.  1.  1.  1.  1.  0.]\n",
      "  [ 1.  1.  1.  1.  1.  1.  1.  1.  1.  1.  0.]\n",
      "  [ 1.  1.  1.  1.  1.  1.  1.  1.  1.  1.  0.]\n",
      "  [ 1.  1.  1.  1.  1.  1.  1.  1.  1.  1.  0.]\n",
      "  [ 1.  1.  1.  1.  1.  1.  1.  1.  1.  1.  0.]\n",
      "  [ 1.  1.  1.  1.  1.  1.  1.  1.  1.  1.  0.]]]\n"
     ]
    }
   ],
   "source": [
    "k = X_train.reshape((2, 8, 11))\n",
    "print k"
   ]
  },
  {
   "cell_type": "code",
   "execution_count": 47,
   "metadata": {
    "collapsed": false
   },
   "outputs": [],
   "source": [
    "def create_matrix(X, frames=16):\n",
    "    nb_rows, nb_cols = X.shape\n",
    "    addframes = frames - (nb_rows % frames)\n",
    "    \n",
    "    for i in range(addframes):\n",
    "        X = np.vstack([X, X[-1]])\n",
    "    nb_dims = X.shape[0] / frames\n",
    "    X = X.reshape((nb_dims, frames, nb_cols))\n",
    "    return X\n",
    "    \n",
    "X_train = np.ones((10,10))\n",
    "X3d = create_matrix(X_train, frames=8)"
   ]
  },
  {
   "cell_type": "code",
   "execution_count": 56,
   "metadata": {
    "collapsed": false
   },
   "outputs": [
    {
     "name": "stdout",
     "output_type": "stream",
     "text": [
      "(2, 8, 11)\n"
     ]
    }
   ],
   "source": [
    "print k.shape"
   ]
  },
  {
   "cell_type": "code",
   "execution_count": 69,
   "metadata": {
    "collapsed": false
   },
   "outputs": [
    {
     "name": "stdout",
     "output_type": "stream",
     "text": [
      "2\n"
     ]
    }
   ],
   "source": [
    "X = k[:,:,:-1]\n",
    "y = k[:,:,-1]\n",
    "nb_dims, nb_rows, nb_cols = X.shape\n",
    "print nb_dims"
   ]
  },
  {
   "cell_type": "code",
   "execution_count": 78,
   "metadata": {
    "collapsed": false
   },
   "outputs": [
    {
     "name": "stdout",
     "output_type": "stream",
     "text": [
      "Downloading data from https://s3.amazonaws.com/img-datasets/mnist.pkl.gz\n",
      "15294464/15296311 [============================>.] - ETA: 0s"
     ]
    }
   ],
   "source": [
    "from keras.datasets import mnist\n",
    "\n",
    "(X_train, y_train), (X_test, y_test) = mnist.load_data()"
   ]
  },
  {
   "cell_type": "code",
   "execution_count": 87,
   "metadata": {
    "collapsed": false
   },
   "outputs": [
    {
     "name": "stdout",
     "output_type": "stream",
     "text": [
      "('X_train shape:', (60000, 28, 28, 1))\n",
      "(60000, 'train samples')\n",
      "(10000, 'test samples')\n"
     ]
    }
   ],
   "source": [
    "from keras.utils import np_utils\n",
    "nb_classes = 10\n",
    "\n",
    "X_train = X_train.reshape(X_train.shape[0], 28, 28, 1)\n",
    "X_test = X_test.reshape(X_test.shape[0], 28, 28, 1)\n",
    "X_train = X_train.astype('float32')\n",
    "X_test = X_test.astype('float32')\n",
    "X_train /= 255\n",
    "X_test /= 255\n",
    "print('X_train shape:', X_train.shape)\n",
    "print(X_train.shape[0], 'train samples')\n",
    "print(X_test.shape[0], 'test samples')\n",
    "\n",
    "# Converts class vectors to binary class matrices.\n",
    "Y_train = np_utils.to_categorical(y_train, nb_classes)\n",
    "Y_test = np_utils.to_categorical(y_test, nb_classes)\n",
    "\n",
    "row, col, pixel = X_train.shape[1:]\n"
   ]
  },
  {
   "cell_type": "code",
   "execution_count": 88,
   "metadata": {
    "collapsed": false
   },
   "outputs": [
    {
     "name": "stdout",
     "output_type": "stream",
     "text": [
      "28 28 1\n"
     ]
    }
   ],
   "source": [
    "print row, col, pixel"
   ]
  },
  {
   "cell_type": "code",
   "execution_count": 77,
   "metadata": {
    "collapsed": false
   },
   "outputs": [
    {
     "name": "stdout",
     "output_type": "stream",
     "text": [
      "218 [1, 2, 2, 2, 2, 2, 2, 2, 2, 2, 2, 2, 2, 2, 4, 2, 2, 2, 5, 2, 2, 2, 2, 2, 2, 2, 2, 9, 2, 2, 2, 5, 2, 4, 2, 2, 2, 2, 2, 2, 2, 4, 2, 2, 2, 2, 2, 2, 2, 2, 4, 2, 2, 2, 6, 2, 2, 2, 2, 2, 4, 2, 2, 2, 4, 2, 2, 2, 2, 2, 2, 2, 2, 2, 2, 2, 2, 4, 2, 2, 2, 2, 2, 2, 2, 2, 2, 5, 2, 2, 2, 8, 2, 8, 2, 5, 4, 2, 2, 2, 2, 2, 2, 2, 4, 2, 2, 2, 2, 2, 5, 2, 2, 2, 2, 2, 2, 2, 2, 2, 6, 2, 2, 2, 2, 2, 2, 5, 2, 2, 2, 2, 2, 8, 4, 2, 2, 2, 2, 2, 4, 2, 7, 2, 5, 2, 2, 2, 2, 2, 2, 2, 2, 2, 2, 7, 4, 2, 2, 2, 2, 2, 4, 2, 2, 2, 2, 2, 2, 2, 2, 2, 6, 2, 2, 2, 4, 2, 2, 2, 2, 2, 2, 2, 5, 2, 2, 2, 2, 2, 2, 2, 2, 2, 2, 2, 4, 2, 2, 2, 2, 2, 2, 2, 2, 2, 5, 2, 2, 2, 2, 2, 2, 2, 2, 2, 2, 2]\n"
     ]
    }
   ],
   "source": [
    "for k in X_train:\n",
    "    print len(k),k\n",
    "    break"
   ]
  },
  {
   "cell_type": "code",
   "execution_count": 30,
   "metadata": {
    "collapsed": false
   },
   "outputs": [
    {
     "name": "stdout",
     "output_type": "stream",
     "text": [
      "Adding :  3\n",
      "Modified shape X:  (15, 3)\n",
      "Modified shape y:  (15, 3)\n",
      "building matrix...\n",
      "Divide into dimensions:  3\n",
      "(3, 5, 3)\n",
      "[[[ 1.  1.  1.]\n",
      "  [ 1.  1.  1.]\n",
      "  [ 1.  1.  1.]\n",
      "  [ 1.  1.  1.]\n",
      "  [ 1.  1.  1.]]\n",
      "\n",
      " [[ 1.  1.  1.]\n",
      "  [ 1.  1.  1.]\n",
      "  [ 1.  1.  1.]\n",
      "  [ 1.  1.  1.]\n",
      "  [ 1.  1.  1.]]\n",
      "\n",
      " [[ 1.  1.  1.]\n",
      "  [ 1.  1.  1.]\n",
      "  [ 1.  1.  1.]\n",
      "  [ 1.  1.  1.]\n",
      "  [ 1.  1.  1.]]]\n"
     ]
    }
   ],
   "source": [
    "import numpy as np\n",
    "frames = 5\n",
    "stride = 5\n",
    "\n",
    "X = np.ones((12,3))\n",
    "y = np.ones((12,3))\n",
    "\n",
    "# fill missing rows\n",
    "nb_rows, nb_cols = X.shape\n",
    "addframes = stride - ((nb_rows - frames) % stride)\n",
    "print 'Adding : ', addframes\n",
    "for i in range(addframes):\n",
    "    X = np.vstack([X, X[-1]])\n",
    "    y = np.vstack([y, y[-1]])\n",
    "    \n",
    "print 'Modified shape X: ', X.shape\n",
    "print 'Modified shape y: ', y.shape\n",
    "\n",
    "print('building matrix...')\n",
    "nb_rows, nb_cols = X.shape\n",
    "nb_dims = 1 + ((nb_rows - frames) / stride)\n",
    "print 'Divide into dimensions: ', nb_dims\n",
    "X_total = []\n",
    "y_total = []\n",
    "index = 0\n",
    "for dim in xrange(nb_dims):\n",
    "    final = index + frames\n",
    "    X_total.append(X[index:final])\n",
    "    y_total.append(y[index:final])\n",
    "    index = index + stride\n",
    "\n",
    "X_total = np.array(X_total)\n",
    "print X_total.shape\n",
    "print X_total"
   ]
  },
  {
   "cell_type": "code",
   "execution_count": null,
   "metadata": {
    "collapsed": true
   },
   "outputs": [],
   "source": []
  }
 ],
 "metadata": {
  "kernelspec": {
   "display_name": "Python 2",
   "language": "python",
   "name": "python2"
  },
  "language_info": {
   "codemirror_mode": {
    "name": "ipython",
    "version": 2
   },
   "file_extension": ".py",
   "mimetype": "text/x-python",
   "name": "python",
   "nbconvert_exporter": "python",
   "pygments_lexer": "ipython2",
   "version": "2.7.12"
  }
 },
 "nbformat": 4,
 "nbformat_minor": 0
}
