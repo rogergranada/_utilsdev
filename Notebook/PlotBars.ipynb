{
 "cells": [
  {
   "cell_type": "code",
   "execution_count": 36,
   "metadata": {
    "collapsed": false
   },
   "outputs": [
    {
     "data": {
      "image/png": "[encoded data removed]",
      "text/plain": [
       "<matplotlib.figure.Figure at 0x7f09f04ba690>"
      ]
     },
     "metadata": {},
     "output_type": "display_data"
    }
   ],
   "source": [
    "frame1 = plt.gca()\n",
    "#heatmap = frame1.pcolor([[0.0,0.1,0.2,0.3,0.4,0.5,0.6,0.7,0.8,0.9,5]])\n",
    "heatmap = frame1.pcolor([[0,1,2,3,4,5,6,7,8,9]])\n",
    "frame1.set_ylim((0, 1))\n",
    "frame1.axes.get_xaxis().set_visible(False)\n",
    "frame1.axes.get_yaxis().set_visible(False)"
   ]
  },
  {
   "cell_type": "code",
   "execution_count": 70,
   "metadata": {
    "collapsed": false
   },
   "outputs": [
    {
     "data": {
      "image/png": "[encoded data removed]",
      "text/plain": [
       "<matplotlib.figure.Figure at 0x7f09e3990090>"
      ]
     },
     "metadata": {},
     "output_type": "display_data"
    }
   ],
   "source": [
    "%matplotlib inline\n",
    "import numpy as np\n",
    "import matplotlib.pyplot as plt\n",
    "\n",
    "def plotSequence(pred, y, fname=None):\n",
    "    \"\"\"\n",
    "    Plot two bars containing colors for predicted labels and \n",
    "    the ground truth y. Colors vary in colormap as numbers\n",
    "    of the labels.\n",
    "    \n",
    "    Parameters:\n",
    "    -----------\n",
    "    pred : array_like\n",
    "        list containing the predicted labels in sequence\n",
    "    y : array_like\n",
    "        list containing the ground truth labels in sequence\n",
    "    \"\"\"\n",
    "    labels = np.array((pred, y), dtype=np.int32)\n",
    "    frame = plt.gca()\n",
    "    frame.pcolor(labels, edgecolors='k')\n",
    "    frame.axes.get_xaxis().set_visible(False)\n",
    "    frame.axes.get_yaxis().set_visible(False)\n",
    "    frame.set_xlim((0, len(pred)))\n",
    "    if fname:\n",
    "        plt.savefig(fname)\n",
    "    else:\n",
    "        plt.show()\n",
    "\n",
    "p1 = []\n",
    "p2 = []\n",
    "p1.extend([2]*20)\n",
    "p1.extend([5]*10)\n",
    "p1.extend([8]*30)\n",
    "p1.extend([2]*20)\n",
    "p1.extend([6]*20)\n",
    "p2.extend([2]*15)\n",
    "p2.extend([5]*15)\n",
    "p2.extend([1]*5)\n",
    "p2.extend([8]*40)\n",
    "p2.extend([6]*25)\n",
    "plotSequence(p1, p2)\n"
   ]
  },
  {
   "cell_type": "code",
   "execution_count": 72,
   "metadata": {
    "collapsed": false
   },
   "outputs": [],
   "source": [
    "%matplotlib inline\n",
    "import numpy as np\n",
    "from numpy.random import choice\n",
    "import matplotlib.pyplot as plt\n",
    "\n",
    "def plotSequence(pred, y):\n",
    "    \"\"\"\n",
    "    Plot two bars containing colors for predicted labels and \n",
    "    the ground truth y. Colors vary in colormap as numbers\n",
    "    of the labels.\n",
    "    \n",
    "    Parameters:\n",
    "    -----------\n",
    "    pred : array_like\n",
    "        list containing the predicted labels in sequence\n",
    "    y : array_like\n",
    "        list containing the ground truth labels in sequence\n",
    "    \"\"\"\n",
    "    labels = np.array((pred, y), dtype=np.int32)\n",
    "    \n",
    "        \n",
    "a = [3,'2',3.5]\n",
    "plotSequence(a, a)"
   ]
  },
  {
   "cell_type": "code",
   "execution_count": null,
   "metadata": {
    "collapsed": true
   },
   "outputs": [],
   "source": []
  }
 ],
 "metadata": {
  "kernelspec": {
   "display_name": "Python 2",
   "language": "python",
   "name": "python2"
  },
  "language_info": {
   "codemirror_mode": {
    "name": "ipython",
    "version": 2
   },
   "file_extension": ".py",
   "mimetype": "text/x-python",
   "name": "python",
   "nbconvert_exporter": "python",
   "pygments_lexer": "ipython2",
   "version": "2.7.11"
  }
 },
 "nbformat": 4,
 "nbformat_minor": 0
}
